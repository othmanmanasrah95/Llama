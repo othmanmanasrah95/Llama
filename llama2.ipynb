{
  "nbformat": 4,
  "nbformat_minor": 0,
  "metadata": {
    "colab": {
      "provenance": [],
      "authorship_tag": "ABX9TyPVRZQFYlIe+nrMxE+wcKR4",
      "include_colab_link": true
    },
    "kernelspec": {
      "name": "python3",
      "display_name": "Python 3"
    },
    "language_info": {
      "name": "python"
    }
  },
  "cells": [
    {
      "cell_type": "markdown",
      "metadata": {
        "id": "view-in-github",
        "colab_type": "text"
      },
      "source": [
        "<a href=\"https://colab.research.google.com/github/othmanmanasrah95/Llama/blob/main/llama2.ipynb\" target=\"_parent\"><img src=\"https://colab.research.google.com/assets/colab-badge.svg\" alt=\"Open In Colab\"/></a>"
      ]
    },
    {
      "cell_type": "code",
      "execution_count": 1,
      "metadata": {
        "id": "5vxDMif0BKne",
        "colab": {
          "base_uri": "https://localhost:8080/"
        },
        "outputId": "5c4d1128-274c-4ece-db81-0dd4bb41eb98"
      },
      "outputs": [
        {
          "output_type": "stream",
          "name": "stdout",
          "text": [
            "Cloning into 'llama'...\n",
            "remote: Enumerating objects: 91, done.\u001b[K\n",
            "remote: Total 91 (delta 0), reused 0 (delta 0), pack-reused 91\u001b[K\n",
            "Receiving objects: 100% (91/91), 1016.73 KiB | 6.96 MiB/s, done.\n",
            "Resolving deltas: 100% (32/32), done.\n"
          ]
        }
      ],
      "source": [
        "!git clone https://github.com/facebookresearch/llama.git\n"
      ]
    },
    {
      "cell_type": "code",
      "source": [
        "cd llama"
      ],
      "metadata": {
        "colab": {
          "base_uri": "https://localhost:8080/"
        },
        "id": "NnosJ86eCuBh",
        "outputId": "b8ed6a5d-ec28-4301-f69b-4597399daf90"
      },
      "execution_count": 23,
      "outputs": [
        {
          "output_type": "stream",
          "name": "stdout",
          "text": [
            "/content/llama\n"
          ]
        }
      ]
    },
    {
      "cell_type": "code",
      "source": [
        "!ls"
      ],
      "metadata": {
        "colab": {
          "base_uri": "https://localhost:8080/"
        },
        "id": "UkFppFCxCt-O",
        "outputId": "3b4b2c02-69ee-49d8-c91b-608d25d1c0e5"
      },
      "execution_count": 24,
      "outputs": [
        {
          "output_type": "stream",
          "name": "stdout",
          "text": [
            "CODE_OF_CONDUCT.md\t    LICENSE\t      Responsible-Use-Guide.pdf\n",
            "CONTRIBUTING.md\t\t    llama\t      setup.py\n",
            "download.sh\t\t    MODEL_CARD.md     USE_POLICY.md\n",
            "example_chat_completion.py  README.md\n",
            "example_text_completion.py  requirements.txt\n"
          ]
        }
      ]
    },
    {
      "cell_type": "code",
      "source": [
        "!pip install -e ."
      ],
      "metadata": {
        "colab": {
          "base_uri": "https://localhost:8080/"
        },
        "id": "C7atrPC5Ct7O",
        "outputId": "9e97b93d-5e09-4ae4-f42a-d4e2f896d4bc"
      },
      "execution_count": 25,
      "outputs": [
        {
          "output_type": "stream",
          "name": "stdout",
          "text": [
            "Obtaining file:///content/llama\n",
            "  Preparing metadata (setup.py) ... \u001b[?25l\u001b[?25hdone\n",
            "Requirement already satisfied: torch in /usr/local/lib/python3.10/dist-packages (from llama==0.0.1) (2.0.1+cu118)\n",
            "Collecting fairscale (from llama==0.0.1)\n",
            "  Downloading fairscale-0.4.13.tar.gz (266 kB)\n",
            "\u001b[2K     \u001b[90m━━━━━━━━━━━━━━━━━━━━━━━━━━━━━━━━━━━━━━━\u001b[0m \u001b[32m266.3/266.3 kB\u001b[0m \u001b[31m5.8 MB/s\u001b[0m eta \u001b[36m0:00:00\u001b[0m\n",
            "\u001b[?25h  Installing build dependencies ... \u001b[?25l\u001b[?25hdone\n",
            "  Getting requirements to build wheel ... \u001b[?25l\u001b[?25hdone\n",
            "  Installing backend dependencies ... \u001b[?25l\u001b[?25hdone\n",
            "  Preparing metadata (pyproject.toml) ... \u001b[?25l\u001b[?25hdone\n",
            "Collecting fire (from llama==0.0.1)\n",
            "  Downloading fire-0.5.0.tar.gz (88 kB)\n",
            "\u001b[2K     \u001b[90m━━━━━━━━━━━━━━━━━━━━━━━━━━━━━━━━━━━━━━━━\u001b[0m \u001b[32m88.3/88.3 kB\u001b[0m \u001b[31m11.9 MB/s\u001b[0m eta \u001b[36m0:00:00\u001b[0m\n",
            "\u001b[?25h  Preparing metadata (setup.py) ... \u001b[?25l\u001b[?25hdone\n",
            "Collecting sentencepiece (from llama==0.0.1)\n",
            "  Downloading sentencepiece-0.1.99-cp310-cp310-manylinux_2_17_x86_64.manylinux2014_x86_64.whl (1.3 MB)\n",
            "\u001b[2K     \u001b[90m━━━━━━━━━━━━━━━━━━━━━━━━━━━━━━━━━━━━━━━━\u001b[0m \u001b[32m1.3/1.3 MB\u001b[0m \u001b[31m13.4 MB/s\u001b[0m eta \u001b[36m0:00:00\u001b[0m\n",
            "\u001b[?25hRequirement already satisfied: numpy>=1.22.0 in /usr/local/lib/python3.10/dist-packages (from fairscale->llama==0.0.1) (1.22.4)\n",
            "Requirement already satisfied: filelock in /usr/local/lib/python3.10/dist-packages (from torch->llama==0.0.1) (3.12.2)\n",
            "Requirement already satisfied: typing-extensions in /usr/local/lib/python3.10/dist-packages (from torch->llama==0.0.1) (4.7.1)\n",
            "Requirement already satisfied: sympy in /usr/local/lib/python3.10/dist-packages (from torch->llama==0.0.1) (1.11.1)\n",
            "Requirement already satisfied: networkx in /usr/local/lib/python3.10/dist-packages (from torch->llama==0.0.1) (3.1)\n",
            "Requirement already satisfied: jinja2 in /usr/local/lib/python3.10/dist-packages (from torch->llama==0.0.1) (3.1.2)\n",
            "Requirement already satisfied: triton==2.0.0 in /usr/local/lib/python3.10/dist-packages (from torch->llama==0.0.1) (2.0.0)\n",
            "Requirement already satisfied: cmake in /usr/local/lib/python3.10/dist-packages (from triton==2.0.0->torch->llama==0.0.1) (3.25.2)\n",
            "Requirement already satisfied: lit in /usr/local/lib/python3.10/dist-packages (from triton==2.0.0->torch->llama==0.0.1) (16.0.6)\n",
            "Requirement already satisfied: six in /usr/local/lib/python3.10/dist-packages (from fire->llama==0.0.1) (1.16.0)\n",
            "Requirement already satisfied: termcolor in /usr/local/lib/python3.10/dist-packages (from fire->llama==0.0.1) (2.3.0)\n",
            "Requirement already satisfied: MarkupSafe>=2.0 in /usr/local/lib/python3.10/dist-packages (from jinja2->torch->llama==0.0.1) (2.1.3)\n",
            "Requirement already satisfied: mpmath>=0.19 in /usr/local/lib/python3.10/dist-packages (from sympy->torch->llama==0.0.1) (1.3.0)\n",
            "Building wheels for collected packages: fairscale, fire\n",
            "  Building wheel for fairscale (pyproject.toml) ... \u001b[?25l\u001b[?25hdone\n",
            "  Created wheel for fairscale: filename=fairscale-0.4.13-py3-none-any.whl size=332112 sha256=b41ff7786bbacb09e57445be19944b7f28c399eef59b32a498bf01a15c17b33f\n",
            "  Stored in directory: /root/.cache/pip/wheels/78/a4/c0/fb0a7ef03cff161611c3fa40c6cf898f76e58ec421b88e8cb3\n",
            "  Building wheel for fire (setup.py) ... \u001b[?25l\u001b[?25hdone\n",
            "  Created wheel for fire: filename=fire-0.5.0-py2.py3-none-any.whl size=116932 sha256=2f40fdb8ee159b0180c6a38ca41752d012779bd33745de789e1e3cbbc5ef9780\n",
            "  Stored in directory: /root/.cache/pip/wheels/90/d4/f7/9404e5db0116bd4d43e5666eaa3e70ab53723e1e3ea40c9a95\n",
            "Successfully built fairscale fire\n",
            "Installing collected packages: sentencepiece, fire, fairscale, llama\n",
            "  Running setup.py develop for llama\n",
            "Successfully installed fairscale-0.4.13 fire-0.5.0 llama-0.0.1 sentencepiece-0.1.99\n"
          ]
        }
      ]
    },
    {
      "cell_type": "code",
      "source": [
        "!ls\n"
      ],
      "metadata": {
        "colab": {
          "base_uri": "https://localhost:8080/"
        },
        "id": "QYtsg0TJCt07",
        "outputId": "f7373824-577c-4d5f-f999-4c68b5981731"
      },
      "execution_count": 6,
      "outputs": [
        {
          "output_type": "stream",
          "name": "stdout",
          "text": [
            "llama  sample_data\n"
          ]
        }
      ]
    },
    {
      "cell_type": "code",
      "source": [
        "!cd llama"
      ],
      "metadata": {
        "id": "EoScvfliCtxl"
      },
      "execution_count": 7,
      "outputs": []
    },
    {
      "cell_type": "code",
      "source": [
        "ls"
      ],
      "metadata": {
        "colab": {
          "base_uri": "https://localhost:8080/"
        },
        "id": "Ydqdc7kHCtuh",
        "outputId": "57a309fe-7f17-4b39-dc2b-398123df257c"
      },
      "execution_count": 8,
      "outputs": [
        {
          "output_type": "stream",
          "name": "stdout",
          "text": [
            "\u001b[0m\u001b[01;34mllama\u001b[0m/  \u001b[01;34msample_data\u001b[0m/\n"
          ]
        }
      ]
    },
    {
      "cell_type": "code",
      "source": [
        "cd llama"
      ],
      "metadata": {
        "colab": {
          "base_uri": "https://localhost:8080/"
        },
        "id": "Sv_KHBhDCtrf",
        "outputId": "246b020a-226a-4ace-fc40-7f293ffc133e"
      },
      "execution_count": 9,
      "outputs": [
        {
          "output_type": "stream",
          "name": "stdout",
          "text": [
            "/content/llama\n"
          ]
        }
      ]
    },
    {
      "cell_type": "code",
      "source": [
        "ls"
      ],
      "metadata": {
        "colab": {
          "base_uri": "https://localhost:8080/"
        },
        "id": "wuz0i2xvCtor",
        "outputId": "516bd78c-2cbe-41d2-dbb1-b151f1049ba4"
      },
      "execution_count": 13,
      "outputs": [
        {
          "output_type": "stream",
          "name": "stdout",
          "text": [
            "CODE_OF_CONDUCT.md           LICENSE          \u001b[0m\u001b[01;32mrequirements.txt\u001b[0m*\n",
            "CONTRIBUTING.md              \u001b[01;34mllama\u001b[0m/           Responsible-Use-Guide.pdf\n",
            "download.sh                  \u001b[01;34mllama.egg-info\u001b[0m/  \u001b[01;32msetup.py\u001b[0m*\n",
            "example_chat_completion.py   MODEL_CARD.md    USE_POLICY.md\n",
            "\u001b[01;32mexample_text_completion.py\u001b[0m*  \u001b[01;32mREADME.md\u001b[0m*\n"
          ]
        }
      ]
    },
    {
      "cell_type": "code",
      "source": [
        "!download.sh"
      ],
      "metadata": {
        "colab": {
          "base_uri": "https://localhost:8080/"
        },
        "id": "CrDy2tRJCtl2",
        "outputId": "d76fcf7b-9c0a-4235-b29e-295919306f77"
      },
      "execution_count": 14,
      "outputs": [
        {
          "output_type": "stream",
          "name": "stdout",
          "text": [
            "/bin/bash: line 1: download.sh: command not found\n"
          ]
        }
      ]
    },
    {
      "cell_type": "code",
      "source": [
        "!ls"
      ],
      "metadata": {
        "colab": {
          "base_uri": "https://localhost:8080/"
        },
        "id": "qGmMOAK6CtjC",
        "outputId": "4a5f3e02-477a-4a5a-e9cb-1d604401f78b"
      },
      "execution_count": 15,
      "outputs": [
        {
          "output_type": "stream",
          "name": "stdout",
          "text": [
            "CODE_OF_CONDUCT.md\t    LICENSE\t    requirements.txt\n",
            "CONTRIBUTING.md\t\t    llama\t    Responsible-Use-Guide.pdf\n",
            "download.sh\t\t    llama.egg-info  setup.py\n",
            "example_chat_completion.py  MODEL_CARD.md   USE_POLICY.md\n",
            "example_text_completion.py  README.md\n"
          ]
        }
      ]
    },
    {
      "cell_type": "code",
      "source": [
        "!bash download.sh"
      ],
      "metadata": {
        "colab": {
          "base_uri": "https://localhost:8080/"
        },
        "id": "6ulDTrfhCtgN",
        "outputId": "4cf2aee0-d08d-438b-fcad-d2b09f448841"
      },
      "execution_count": 17,
      "outputs": [
        {
          "output_type": "stream",
          "name": "stdout",
          "text": [
            "Enter the URL from email: https://download.llamameta.net/*?Policy=eyJTdGF0ZW1lbnQiOlt7InVuaXF1ZV9oYXNoIjoiPT9cdTA2MDhcdWRhMWFcdWRlODAiLCJSZXNvdXJjZSI6Imh0dHBzOlwvXC9kb3dubG9hZC5sbGFtYW1ldGEubmV0XC8qIiwiQ29uZGl0aW9uIjp7IkRhdGVMZXNzVGhhbiI6eyJBV1M6RXBvY2hUaW1lIjoxNjkwMjA0MzQ2fX19XX0_&Signature=hOgkp4En4xvmTwoSLDkBDammi3-FkwsUxrQUTNcWnB14ppUuhvFYEz7xnZis3-eIuMuxQyXLcOSjtkTzy9I1ERnbgzsA2J9KaenVemYcYt8p5h7idiMUHf4fspNH-RJn4SdEllhOKHV6H1gAVvnksvLA%7EdgV8fIb%7EpR4f4uD9DTyWLb9hUMduadFF6al%7ERSxl0GjFVIPseQ0uBCnc6qh63ldn6f14Ib%7E1moccOm1e91U2vJX-JajUmdwt-3f6phoIfTVvPrwQhWxpMzKXOuNYjfV6gtYAQX6gHVlH1NG-KHffQt5irMZel1eTRbdb6MhigAlbABnDtK7rAt-NkaUXg__&Key-Pair-Id=K15QRJLYKIFSLZ\n",
            "\n",
            "Enter the list of models to download without spaces (7B,13B,70B,7B-chat,13B-chat,70B-chat), or press Enter for all: 7B-chat,13B-chat\n",
            "Downloading LICENSE and Acceptable Usage Policy\n",
            "--2023-07-24 08:48:09--  https://download.llamameta.net/LICENSE?Policy=eyJTdGF0ZW1lbnQiOlt7InVuaXF1ZV9oYXNoIjoiPT9cdTA2MDhcdWRhMWFcdWRlODAiLCJSZXNvdXJjZSI6Imh0dHBzOlwvXC9kb3dubG9hZC5sbGFtYW1ldGEubmV0XC8qIiwiQ29uZGl0aW9uIjp7IkRhdGVMZXNzVGhhbiI6eyJBV1M6RXBvY2hUaW1lIjoxNjkwMjA0MzQ2fX19XX0_&Signature=hOgkp4En4xvmTwoSLDkBDammi3-FkwsUxrQUTNcWnB14ppUuhvFYEz7xnZis3-eIuMuxQyXLcOSjtkTzy9I1ERnbgzsA2J9KaenVemYcYt8p5h7idiMUHf4fspNH-RJn4SdEllhOKHV6H1gAVvnksvLA%7EdgV8fIb%7EpR4f4uD9DTyWLb9hUMduadFF6al%7ERSxl0GjFVIPseQ0uBCnc6qh63ldn6f14Ib%7E1moccOm1e91U2vJX-JajUmdwt-3f6phoIfTVvPrwQhWxpMzKXOuNYjfV6gtYAQX6gHVlH1NG-KHffQt5irMZel1eTRbdb6MhigAlbABnDtK7rAt-NkaUXg__&Key-Pair-Id=K15QRJLYKIFSLZ\n",
            "Resolving download.llamameta.net (download.llamameta.net)... 18.160.225.103, 18.160.225.122, 18.160.225.113, ...\n",
            "Connecting to download.llamameta.net (download.llamameta.net)|18.160.225.103|:443... connected.\n",
            "HTTP request sent, awaiting response... 200 OK\n",
            "Length: 7020 (6.9K) [binary/octet-stream]\n",
            "Saving to: ‘./LICENSE’\n",
            "\n",
            "./LICENSE           100%[===================>]   6.86K  --.-KB/s    in 0s      \n",
            "\n",
            "2023-07-24 08:48:09 (371 MB/s) - ‘./LICENSE’ saved [7020/7020]\n",
            "\n",
            "--2023-07-24 08:48:09--  https://download.llamameta.net/USE_POLICY.md?Policy=eyJTdGF0ZW1lbnQiOlt7InVuaXF1ZV9oYXNoIjoiPT9cdTA2MDhcdWRhMWFcdWRlODAiLCJSZXNvdXJjZSI6Imh0dHBzOlwvXC9kb3dubG9hZC5sbGFtYW1ldGEubmV0XC8qIiwiQ29uZGl0aW9uIjp7IkRhdGVMZXNzVGhhbiI6eyJBV1M6RXBvY2hUaW1lIjoxNjkwMjA0MzQ2fX19XX0_&Signature=hOgkp4En4xvmTwoSLDkBDammi3-FkwsUxrQUTNcWnB14ppUuhvFYEz7xnZis3-eIuMuxQyXLcOSjtkTzy9I1ERnbgzsA2J9KaenVemYcYt8p5h7idiMUHf4fspNH-RJn4SdEllhOKHV6H1gAVvnksvLA%7EdgV8fIb%7EpR4f4uD9DTyWLb9hUMduadFF6al%7ERSxl0GjFVIPseQ0uBCnc6qh63ldn6f14Ib%7E1moccOm1e91U2vJX-JajUmdwt-3f6phoIfTVvPrwQhWxpMzKXOuNYjfV6gtYAQX6gHVlH1NG-KHffQt5irMZel1eTRbdb6MhigAlbABnDtK7rAt-NkaUXg__&Key-Pair-Id=K15QRJLYKIFSLZ\n",
            "Resolving download.llamameta.net (download.llamameta.net)... 18.160.225.103, 18.160.225.122, 18.160.225.113, ...\n",
            "Connecting to download.llamameta.net (download.llamameta.net)|18.160.225.103|:443... connected.\n",
            "HTTP request sent, awaiting response... 200 OK\n",
            "Length: 4766 (4.7K) [binary/octet-stream]\n",
            "Saving to: ‘./USE_POLICY.md’\n",
            "\n",
            "./USE_POLICY.md     100%[===================>]   4.65K  --.-KB/s    in 0s      \n",
            "\n",
            "2023-07-24 08:48:09 (1.02 GB/s) - ‘./USE_POLICY.md’ saved [4766/4766]\n",
            "\n",
            "Downloading tokenizer\n",
            "--2023-07-24 08:48:09--  https://download.llamameta.net/tokenizer.model?Policy=eyJTdGF0ZW1lbnQiOlt7InVuaXF1ZV9oYXNoIjoiPT9cdTA2MDhcdWRhMWFcdWRlODAiLCJSZXNvdXJjZSI6Imh0dHBzOlwvXC9kb3dubG9hZC5sbGFtYW1ldGEubmV0XC8qIiwiQ29uZGl0aW9uIjp7IkRhdGVMZXNzVGhhbiI6eyJBV1M6RXBvY2hUaW1lIjoxNjkwMjA0MzQ2fX19XX0_&Signature=hOgkp4En4xvmTwoSLDkBDammi3-FkwsUxrQUTNcWnB14ppUuhvFYEz7xnZis3-eIuMuxQyXLcOSjtkTzy9I1ERnbgzsA2J9KaenVemYcYt8p5h7idiMUHf4fspNH-RJn4SdEllhOKHV6H1gAVvnksvLA%7EdgV8fIb%7EpR4f4uD9DTyWLb9hUMduadFF6al%7ERSxl0GjFVIPseQ0uBCnc6qh63ldn6f14Ib%7E1moccOm1e91U2vJX-JajUmdwt-3f6phoIfTVvPrwQhWxpMzKXOuNYjfV6gtYAQX6gHVlH1NG-KHffQt5irMZel1eTRbdb6MhigAlbABnDtK7rAt-NkaUXg__&Key-Pair-Id=K15QRJLYKIFSLZ\n",
            "Resolving download.llamameta.net (download.llamameta.net)... 18.160.225.103, 18.160.225.122, 18.160.225.113, ...\n",
            "Connecting to download.llamameta.net (download.llamameta.net)|18.160.225.103|:443... connected.\n",
            "HTTP request sent, awaiting response... 200 OK\n",
            "Length: 499723 (488K) [binary/octet-stream]\n",
            "Saving to: ‘./tokenizer.model’\n",
            "\n",
            "./tokenizer.model   100%[===================>] 488.01K  --.-KB/s    in 0.05s   \n",
            "\n",
            "2023-07-24 08:48:10 (10.1 MB/s) - ‘./tokenizer.model’ saved [499723/499723]\n",
            "\n",
            "--2023-07-24 08:48:10--  https://download.llamameta.net/tokenizer_checklist.chk?Policy=eyJTdGF0ZW1lbnQiOlt7InVuaXF1ZV9oYXNoIjoiPT9cdTA2MDhcdWRhMWFcdWRlODAiLCJSZXNvdXJjZSI6Imh0dHBzOlwvXC9kb3dubG9hZC5sbGFtYW1ldGEubmV0XC8qIiwiQ29uZGl0aW9uIjp7IkRhdGVMZXNzVGhhbiI6eyJBV1M6RXBvY2hUaW1lIjoxNjkwMjA0MzQ2fX19XX0_&Signature=hOgkp4En4xvmTwoSLDkBDammi3-FkwsUxrQUTNcWnB14ppUuhvFYEz7xnZis3-eIuMuxQyXLcOSjtkTzy9I1ERnbgzsA2J9KaenVemYcYt8p5h7idiMUHf4fspNH-RJn4SdEllhOKHV6H1gAVvnksvLA%7EdgV8fIb%7EpR4f4uD9DTyWLb9hUMduadFF6al%7ERSxl0GjFVIPseQ0uBCnc6qh63ldn6f14Ib%7E1moccOm1e91U2vJX-JajUmdwt-3f6phoIfTVvPrwQhWxpMzKXOuNYjfV6gtYAQX6gHVlH1NG-KHffQt5irMZel1eTRbdb6MhigAlbABnDtK7rAt-NkaUXg__&Key-Pair-Id=K15QRJLYKIFSLZ\n",
            "Resolving download.llamameta.net (download.llamameta.net)... 18.160.225.103, 18.160.225.122, 18.160.225.113, ...\n",
            "Connecting to download.llamameta.net (download.llamameta.net)|18.160.225.103|:443... connected.\n",
            "HTTP request sent, awaiting response... 200 OK\n",
            "Length: 50 [binary/octet-stream]\n",
            "Saving to: ‘./tokenizer_checklist.chk’\n",
            "\n",
            "./tokenizer_checkli 100%[===================>]      50  --.-KB/s    in 0s      \n",
            "\n",
            "2023-07-24 08:48:10 (3.90 MB/s) - ‘./tokenizer_checklist.chk’ saved [50/50]\n",
            "\n",
            "tokenizer.model: OK\n",
            "Downloading llama-2-7b-chat\n",
            "--2023-07-24 08:48:10--  https://download.llamameta.net/llama-2-7b-chat/consolidated.00.pth?Policy=eyJTdGF0ZW1lbnQiOlt7InVuaXF1ZV9oYXNoIjoiPT9cdTA2MDhcdWRhMWFcdWRlODAiLCJSZXNvdXJjZSI6Imh0dHBzOlwvXC9kb3dubG9hZC5sbGFtYW1ldGEubmV0XC8qIiwiQ29uZGl0aW9uIjp7IkRhdGVMZXNzVGhhbiI6eyJBV1M6RXBvY2hUaW1lIjoxNjkwMjA0MzQ2fX19XX0_&Signature=hOgkp4En4xvmTwoSLDkBDammi3-FkwsUxrQUTNcWnB14ppUuhvFYEz7xnZis3-eIuMuxQyXLcOSjtkTzy9I1ERnbgzsA2J9KaenVemYcYt8p5h7idiMUHf4fspNH-RJn4SdEllhOKHV6H1gAVvnksvLA%7EdgV8fIb%7EpR4f4uD9DTyWLb9hUMduadFF6al%7ERSxl0GjFVIPseQ0uBCnc6qh63ldn6f14Ib%7E1moccOm1e91U2vJX-JajUmdwt-3f6phoIfTVvPrwQhWxpMzKXOuNYjfV6gtYAQX6gHVlH1NG-KHffQt5irMZel1eTRbdb6MhigAlbABnDtK7rAt-NkaUXg__&Key-Pair-Id=K15QRJLYKIFSLZ\n",
            "Resolving download.llamameta.net (download.llamameta.net)... 18.160.225.103, 18.160.225.122, 18.160.225.113, ...\n",
            "Connecting to download.llamameta.net (download.llamameta.net)|18.160.225.103|:443... connected.\n",
            "HTTP request sent, awaiting response... 200 OK\n",
            "Length: 13476925163 (13G) [binary/octet-stream]\n",
            "Saving to: ‘./llama-2-7b-chat/consolidated.00.pth’\n",
            "\n",
            "./llama-2-7b-chat/c 100%[===================>]  12.55G   221MB/s    in 63s     \n",
            "\n",
            "2023-07-24 08:49:13 (205 MB/s) - ‘./llama-2-7b-chat/consolidated.00.pth’ saved [13476925163/13476925163]\n",
            "\n",
            "--2023-07-24 08:49:13--  https://download.llamameta.net/llama-2-7b-chat/params.json?Policy=eyJTdGF0ZW1lbnQiOlt7InVuaXF1ZV9oYXNoIjoiPT9cdTA2MDhcdWRhMWFcdWRlODAiLCJSZXNvdXJjZSI6Imh0dHBzOlwvXC9kb3dubG9hZC5sbGFtYW1ldGEubmV0XC8qIiwiQ29uZGl0aW9uIjp7IkRhdGVMZXNzVGhhbiI6eyJBV1M6RXBvY2hUaW1lIjoxNjkwMjA0MzQ2fX19XX0_&Signature=hOgkp4En4xvmTwoSLDkBDammi3-FkwsUxrQUTNcWnB14ppUuhvFYEz7xnZis3-eIuMuxQyXLcOSjtkTzy9I1ERnbgzsA2J9KaenVemYcYt8p5h7idiMUHf4fspNH-RJn4SdEllhOKHV6H1gAVvnksvLA%7EdgV8fIb%7EpR4f4uD9DTyWLb9hUMduadFF6al%7ERSxl0GjFVIPseQ0uBCnc6qh63ldn6f14Ib%7E1moccOm1e91U2vJX-JajUmdwt-3f6phoIfTVvPrwQhWxpMzKXOuNYjfV6gtYAQX6gHVlH1NG-KHffQt5irMZel1eTRbdb6MhigAlbABnDtK7rAt-NkaUXg__&Key-Pair-Id=K15QRJLYKIFSLZ\n",
            "Resolving download.llamameta.net (download.llamameta.net)... 18.160.225.103, 18.160.225.23, 18.160.225.113, ...\n",
            "Connecting to download.llamameta.net (download.llamameta.net)|18.160.225.103|:443... connected.\n",
            "HTTP request sent, awaiting response... 200 OK\n",
            "Length: 102 [application/json]\n",
            "Saving to: ‘./llama-2-7b-chat/params.json’\n",
            "\n",
            "./llama-2-7b-chat/p 100%[===================>]     102  --.-KB/s    in 0s      \n",
            "\n",
            "2023-07-24 08:49:13 (60.0 MB/s) - ‘./llama-2-7b-chat/params.json’ saved [102/102]\n",
            "\n",
            "--2023-07-24 08:49:13--  https://download.llamameta.net/llama-2-7b-chat/checklist.chk?Policy=eyJTdGF0ZW1lbnQiOlt7InVuaXF1ZV9oYXNoIjoiPT9cdTA2MDhcdWRhMWFcdWRlODAiLCJSZXNvdXJjZSI6Imh0dHBzOlwvXC9kb3dubG9hZC5sbGFtYW1ldGEubmV0XC8qIiwiQ29uZGl0aW9uIjp7IkRhdGVMZXNzVGhhbiI6eyJBV1M6RXBvY2hUaW1lIjoxNjkwMjA0MzQ2fX19XX0_&Signature=hOgkp4En4xvmTwoSLDkBDammi3-FkwsUxrQUTNcWnB14ppUuhvFYEz7xnZis3-eIuMuxQyXLcOSjtkTzy9I1ERnbgzsA2J9KaenVemYcYt8p5h7idiMUHf4fspNH-RJn4SdEllhOKHV6H1gAVvnksvLA%7EdgV8fIb%7EpR4f4uD9DTyWLb9hUMduadFF6al%7ERSxl0GjFVIPseQ0uBCnc6qh63ldn6f14Ib%7E1moccOm1e91U2vJX-JajUmdwt-3f6phoIfTVvPrwQhWxpMzKXOuNYjfV6gtYAQX6gHVlH1NG-KHffQt5irMZel1eTRbdb6MhigAlbABnDtK7rAt-NkaUXg__&Key-Pair-Id=K15QRJLYKIFSLZ\n",
            "Resolving download.llamameta.net (download.llamameta.net)... 18.160.225.103, 18.160.225.23, 18.160.225.113, ...\n",
            "Connecting to download.llamameta.net (download.llamameta.net)|18.160.225.103|:443... connected.\n",
            "HTTP request sent, awaiting response... 200 OK\n",
            "Length: 100 [binary/octet-stream]\n",
            "Saving to: ‘./llama-2-7b-chat/checklist.chk’\n",
            "\n",
            "./llama-2-7b-chat/c 100%[===================>]     100  --.-KB/s    in 0s      \n",
            "\n",
            "2023-07-24 08:49:14 (56.8 MB/s) - ‘./llama-2-7b-chat/checklist.chk’ saved [100/100]\n",
            "\n",
            "Checking checksums\n",
            "consolidated.00.pth: OK\n",
            "params.json: OK\n",
            "Downloading llama-2-13b-chat\n",
            "--2023-07-24 08:50:11--  https://download.llamameta.net/llama-2-13b-chat/consolidated.00.pth?Policy=eyJTdGF0ZW1lbnQiOlt7InVuaXF1ZV9oYXNoIjoiPT9cdTA2MDhcdWRhMWFcdWRlODAiLCJSZXNvdXJjZSI6Imh0dHBzOlwvXC9kb3dubG9hZC5sbGFtYW1ldGEubmV0XC8qIiwiQ29uZGl0aW9uIjp7IkRhdGVMZXNzVGhhbiI6eyJBV1M6RXBvY2hUaW1lIjoxNjkwMjA0MzQ2fX19XX0_&Signature=hOgkp4En4xvmTwoSLDkBDammi3-FkwsUxrQUTNcWnB14ppUuhvFYEz7xnZis3-eIuMuxQyXLcOSjtkTzy9I1ERnbgzsA2J9KaenVemYcYt8p5h7idiMUHf4fspNH-RJn4SdEllhOKHV6H1gAVvnksvLA%7EdgV8fIb%7EpR4f4uD9DTyWLb9hUMduadFF6al%7ERSxl0GjFVIPseQ0uBCnc6qh63ldn6f14Ib%7E1moccOm1e91U2vJX-JajUmdwt-3f6phoIfTVvPrwQhWxpMzKXOuNYjfV6gtYAQX6gHVlH1NG-KHffQt5irMZel1eTRbdb6MhigAlbABnDtK7rAt-NkaUXg__&Key-Pair-Id=K15QRJLYKIFSLZ\n",
            "Resolving download.llamameta.net (download.llamameta.net)... 18.160.225.103, 18.160.225.113, 18.160.225.23, ...\n",
            "Connecting to download.llamameta.net (download.llamameta.net)|18.160.225.103|:443... connected.\n",
            "HTTP request sent, awaiting response... 200 OK\n",
            "Length: 13016397277 (12G) [binary/octet-stream]\n",
            "Saving to: ‘./llama-2-13b-chat/consolidated.00.pth’\n",
            "\n",
            "./llama-2-13b-chat/ 100%[===================>]  12.12G   228MB/s    in 60s     \n",
            "\n",
            "2023-07-24 08:51:11 (208 MB/s) - ‘./llama-2-13b-chat/consolidated.00.pth’ saved [13016397277/13016397277]\n",
            "\n",
            "--2023-07-24 08:51:11--  https://download.llamameta.net/llama-2-13b-chat/consolidated.01.pth?Policy=eyJTdGF0ZW1lbnQiOlt7InVuaXF1ZV9oYXNoIjoiPT9cdTA2MDhcdWRhMWFcdWRlODAiLCJSZXNvdXJjZSI6Imh0dHBzOlwvXC9kb3dubG9hZC5sbGFtYW1ldGEubmV0XC8qIiwiQ29uZGl0aW9uIjp7IkRhdGVMZXNzVGhhbiI6eyJBV1M6RXBvY2hUaW1lIjoxNjkwMjA0MzQ2fX19XX0_&Signature=hOgkp4En4xvmTwoSLDkBDammi3-FkwsUxrQUTNcWnB14ppUuhvFYEz7xnZis3-eIuMuxQyXLcOSjtkTzy9I1ERnbgzsA2J9KaenVemYcYt8p5h7idiMUHf4fspNH-RJn4SdEllhOKHV6H1gAVvnksvLA%7EdgV8fIb%7EpR4f4uD9DTyWLb9hUMduadFF6al%7ERSxl0GjFVIPseQ0uBCnc6qh63ldn6f14Ib%7E1moccOm1e91U2vJX-JajUmdwt-3f6phoIfTVvPrwQhWxpMzKXOuNYjfV6gtYAQX6gHVlH1NG-KHffQt5irMZel1eTRbdb6MhigAlbABnDtK7rAt-NkaUXg__&Key-Pair-Id=K15QRJLYKIFSLZ\n",
            "Resolving download.llamameta.net (download.llamameta.net)... 18.160.225.23, 18.160.225.103, 18.160.225.113, ...\n",
            "Connecting to download.llamameta.net (download.llamameta.net)|18.160.225.23|:443... connected.\n",
            "HTTP request sent, awaiting response... 200 OK\n",
            "Length: 13016397277 (12G) [binary/octet-stream]\n",
            "Saving to: ‘./llama-2-13b-chat/consolidated.01.pth’\n",
            "\n",
            "./llama-2-13b-chat/ 100%[===================>]  12.12G   168MB/s    in 68s     \n",
            "\n",
            "2023-07-24 08:52:19 (183 MB/s) - ‘./llama-2-13b-chat/consolidated.01.pth’ saved [13016397277/13016397277]\n",
            "\n",
            "--2023-07-24 08:52:19--  https://download.llamameta.net/llama-2-13b-chat/params.json?Policy=eyJTdGF0ZW1lbnQiOlt7InVuaXF1ZV9oYXNoIjoiPT9cdTA2MDhcdWRhMWFcdWRlODAiLCJSZXNvdXJjZSI6Imh0dHBzOlwvXC9kb3dubG9hZC5sbGFtYW1ldGEubmV0XC8qIiwiQ29uZGl0aW9uIjp7IkRhdGVMZXNzVGhhbiI6eyJBV1M6RXBvY2hUaW1lIjoxNjkwMjA0MzQ2fX19XX0_&Signature=hOgkp4En4xvmTwoSLDkBDammi3-FkwsUxrQUTNcWnB14ppUuhvFYEz7xnZis3-eIuMuxQyXLcOSjtkTzy9I1ERnbgzsA2J9KaenVemYcYt8p5h7idiMUHf4fspNH-RJn4SdEllhOKHV6H1gAVvnksvLA%7EdgV8fIb%7EpR4f4uD9DTyWLb9hUMduadFF6al%7ERSxl0GjFVIPseQ0uBCnc6qh63ldn6f14Ib%7E1moccOm1e91U2vJX-JajUmdwt-3f6phoIfTVvPrwQhWxpMzKXOuNYjfV6gtYAQX6gHVlH1NG-KHffQt5irMZel1eTRbdb6MhigAlbABnDtK7rAt-NkaUXg__&Key-Pair-Id=K15QRJLYKIFSLZ\n",
            "Resolving download.llamameta.net (download.llamameta.net)... 18.160.225.103, 18.160.225.122, 18.160.225.113, ...\n",
            "Connecting to download.llamameta.net (download.llamameta.net)|18.160.225.103|:443... connected.\n",
            "HTTP request sent, awaiting response... 200 OK\n",
            "Length: 102 [application/json]\n",
            "Saving to: ‘./llama-2-13b-chat/params.json’\n",
            "\n",
            "./llama-2-13b-chat/ 100%[===================>]     102  --.-KB/s    in 0s      \n",
            "\n",
            "2023-07-24 08:52:19 (2.37 MB/s) - ‘./llama-2-13b-chat/params.json’ saved [102/102]\n",
            "\n",
            "--2023-07-24 08:52:19--  https://download.llamameta.net/llama-2-13b-chat/checklist.chk?Policy=eyJTdGF0ZW1lbnQiOlt7InVuaXF1ZV9oYXNoIjoiPT9cdTA2MDhcdWRhMWFcdWRlODAiLCJSZXNvdXJjZSI6Imh0dHBzOlwvXC9kb3dubG9hZC5sbGFtYW1ldGEubmV0XC8qIiwiQ29uZGl0aW9uIjp7IkRhdGVMZXNzVGhhbiI6eyJBV1M6RXBvY2hUaW1lIjoxNjkwMjA0MzQ2fX19XX0_&Signature=hOgkp4En4xvmTwoSLDkBDammi3-FkwsUxrQUTNcWnB14ppUuhvFYEz7xnZis3-eIuMuxQyXLcOSjtkTzy9I1ERnbgzsA2J9KaenVemYcYt8p5h7idiMUHf4fspNH-RJn4SdEllhOKHV6H1gAVvnksvLA%7EdgV8fIb%7EpR4f4uD9DTyWLb9hUMduadFF6al%7ERSxl0GjFVIPseQ0uBCnc6qh63ldn6f14Ib%7E1moccOm1e91U2vJX-JajUmdwt-3f6phoIfTVvPrwQhWxpMzKXOuNYjfV6gtYAQX6gHVlH1NG-KHffQt5irMZel1eTRbdb6MhigAlbABnDtK7rAt-NkaUXg__&Key-Pair-Id=K15QRJLYKIFSLZ\n",
            "Resolving download.llamameta.net (download.llamameta.net)... 18.160.225.103, 18.160.225.122, 18.160.225.113, ...\n",
            "Connecting to download.llamameta.net (download.llamameta.net)|18.160.225.103|:443... connected.\n",
            "HTTP request sent, awaiting response... 200 OK\n",
            "Length: 154 [binary/octet-stream]\n",
            "Saving to: ‘./llama-2-13b-chat/checklist.chk’\n",
            "\n",
            "./llama-2-13b-chat/ 100%[===================>]     154  --.-KB/s    in 0s      \n",
            "\n",
            "2023-07-24 08:52:19 (126 MB/s) - ‘./llama-2-13b-chat/checklist.chk’ saved [154/154]\n",
            "\n",
            "Checking checksums\n",
            "consolidated.00.pth: OK\n",
            "consolidated.01.pth: OK\n",
            "params.json: OK\n"
          ]
        }
      ]
    },
    {
      "cell_type": "code",
      "source": [
        "ls"
      ],
      "metadata": {
        "colab": {
          "base_uri": "https://localhost:8080/"
        },
        "id": "Slb3osTFFEZQ",
        "outputId": "05db6ee4-ba79-468c-80f8-07f025292e9c"
      },
      "execution_count": 18,
      "outputs": [
        {
          "output_type": "stream",
          "name": "stdout",
          "text": [
            "CODE_OF_CONDUCT.md           \u001b[0m\u001b[01;34mllama\u001b[0m/             \u001b[01;32mrequirements.txt\u001b[0m*\n",
            "CONTRIBUTING.md              \u001b[01;34mllama-2-13b-chat\u001b[0m/  Responsible-Use-Guide.pdf\n",
            "download.sh                  \u001b[01;34mllama-2-7b-chat\u001b[0m/   \u001b[01;32msetup.py\u001b[0m*\n",
            "example_chat_completion.py   \u001b[01;34mllama.egg-info\u001b[0m/    tokenizer_checklist.chk\n",
            "\u001b[01;32mexample_text_completion.py\u001b[0m*  MODEL_CARD.md      tokenizer.model\n",
            "LICENSE                      \u001b[01;32mREADME.md\u001b[0m*         USE_POLICY.md\n"
          ]
        }
      ]
    },
    {
      "cell_type": "code",
      "source": [
        "!git add ."
      ],
      "metadata": {
        "colab": {
          "base_uri": "https://localhost:8080/"
        },
        "id": "SNL8wfnsFEWX",
        "outputId": "e808f49e-27bc-465e-a254-7b3102302dd5"
      },
      "execution_count": 22,
      "outputs": [
        {
          "output_type": "stream",
          "name": "stdout",
          "text": [
            "^C\n"
          ]
        }
      ]
    },
    {
      "cell_type": "code",
      "source": [
        "cd .."
      ],
      "metadata": {
        "colab": {
          "base_uri": "https://localhost:8080/"
        },
        "id": "ov1ZR6IDFETI",
        "outputId": "e6c2af6a-6df9-4363-8e0f-29c81637550c"
      },
      "execution_count": 1,
      "outputs": [
        {
          "output_type": "stream",
          "name": "stdout",
          "text": [
            "/\n"
          ]
        }
      ]
    },
    {
      "cell_type": "code",
      "source": [
        "ls"
      ],
      "metadata": {
        "colab": {
          "base_uri": "https://localhost:8080/"
        },
        "id": "3WvlRs6QFEQB",
        "outputId": "f822634f-bfc6-4bf2-9db1-d96646e97407"
      },
      "execution_count": 2,
      "outputs": [
        {
          "output_type": "stream",
          "name": "stdout",
          "text": [
            "\u001b[0m\u001b[01;36mbin\u001b[0m@                        \u001b[01;34metc\u001b[0m/     \u001b[01;34mmedia\u001b[0m/                    \u001b[01;34mroot\u001b[0m/  \u001b[01;34mtools\u001b[0m/\n",
            "\u001b[01;34mboot\u001b[0m/                       \u001b[01;34mhome\u001b[0m/    \u001b[01;34mmnt\u001b[0m/                      \u001b[01;34mrun\u001b[0m/   \u001b[01;34musr\u001b[0m/\n",
            "\u001b[01;34mcontent\u001b[0m/                    \u001b[01;36mlib\u001b[0m@     NGC-DL-CONTAINER-LICENSE  \u001b[01;36msbin\u001b[0m@  \u001b[01;34mvar\u001b[0m/\n",
            "cuda-keyring_1.0-1_all.deb  \u001b[01;36mlib32\u001b[0m@   \u001b[01;34mopt\u001b[0m/                      \u001b[01;34msrv\u001b[0m/\n",
            "\u001b[01;34mdatalab\u001b[0m/                    \u001b[01;36mlib64\u001b[0m@   \u001b[01;34mproc\u001b[0m/                     \u001b[01;34msys\u001b[0m/\n",
            "\u001b[01;34mdev\u001b[0m/                        \u001b[01;36mlibx32\u001b[0m@  \u001b[01;34mpython-apt\u001b[0m/               \u001b[30;42mtmp\u001b[0m/\n"
          ]
        }
      ]
    },
    {
      "cell_type": "code",
      "source": [
        "cd content"
      ],
      "metadata": {
        "colab": {
          "base_uri": "https://localhost:8080/"
        },
        "id": "MTkCBriiFEIS",
        "outputId": "6581ebd8-90e9-4184-90c6-09b37b7c187e"
      },
      "execution_count": 3,
      "outputs": [
        {
          "output_type": "stream",
          "name": "stdout",
          "text": [
            "/content\n"
          ]
        }
      ]
    },
    {
      "cell_type": "code",
      "source": [
        "ls"
      ],
      "metadata": {
        "colab": {
          "base_uri": "https://localhost:8080/"
        },
        "id": "20qmeSWAIsKu",
        "outputId": "fdb01aa8-f8e0-4c03-8f03-b842de2a8401"
      },
      "execution_count": 4,
      "outputs": [
        {
          "output_type": "stream",
          "name": "stdout",
          "text": [
            "\u001b[0m\u001b[01;34mllama\u001b[0m/\n"
          ]
        }
      ]
    },
    {
      "cell_type": "code",
      "source": [
        "!git clone https://github.com/othmanmanasrah95/Llama.git"
      ],
      "metadata": {
        "id": "ktFkFH9DIsHx"
      },
      "execution_count": null,
      "outputs": []
    }
  ]
}